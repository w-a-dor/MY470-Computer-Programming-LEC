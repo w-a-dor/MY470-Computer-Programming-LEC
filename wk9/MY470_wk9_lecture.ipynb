{
 "cells": [
  {
   "cell_type": "markdown",
   "metadata": {
    "slideshow": {
     "slide_type": "slide"
    }
   },
   "source": [
    "### MY470 Computer Programming\n",
    "# ⚡️ Algorithms and Order of Growth\n",
    "### Week 9 Lecture"
   ]
  },
  {
   "cell_type": "markdown",
   "metadata": {
    "slideshow": {
     "slide_type": "slide"
    }
   },
   "source": [
    "## Overview\n",
    "\n",
    "* Algorithms and computational complexity\n",
    "* Time complexity\n",
    "    * Big-O notation\n",
    "    * Important computational complexity classes\n",
    "    * Performance of common Python data structures and methods\n",
    "* Space complexity"
   ]
  },
  {
   "cell_type": "markdown",
   "metadata": {
    "slideshow": {
     "slide_type": "slide"
    }
   },
   "source": [
    "## From Week 1: What Is an Algorithm?\n",
    "\n",
    "A well-defined computational procedure that takes value(s) as input and produces value(s) as output\n",
    "\n",
    "  * \"Recipe\" or \"instructions\" for solving a well-defined computational problem\n",
    "  * Consists of a sequence of simple steps, control flow, and a stopping rule\n",
    "  * Can be specified in human language or programming language"
   ]
  },
  {
   "cell_type": "markdown",
   "metadata": {
    "slideshow": {
     "slide_type": "slide"
    }
   },
   "source": [
    "## Algorithm Analysis\n",
    "\n",
    "Helps compare algorithms based on the amount of **computing resources** they use\n",
    "\n",
    "  * Time (execution or **running time**)\n",
    "  * Space (**memory**)\n"
   ]
  },
  {
   "cell_type": "markdown",
   "metadata": {
    "slideshow": {
     "slide_type": "slide"
    }
   },
   "source": [
    "## Time Complexity: Example 1\n",
    "\n",
    "How long does this program take to run?"
   ]
  },
  {
   "cell_type": "code",
   "execution_count": 2,
   "metadata": {
    "collapsed": true,
    "slideshow": {
     "slide_type": "-"
    }
   },
   "outputs": [],
   "source": [
    "def sum_of_n(n):\n",
    "    \"\"\"Assume n is a positive integer. \n",
    "    Calculate the sum of all integers from 1 to n, inclusive.\n",
    "    \"\"\"\n",
    "    res = 0\n",
    "    for i in range(1, n + 1):\n",
    "        res += i\n",
    "    return res"
   ]
  },
  {
   "cell_type": "markdown",
   "metadata": {
    "slideshow": {
     "slide_type": "fragment"
    }
   },
   "source": [
    "## Benchmarking"
   ]
  },
  {
   "cell_type": "code",
   "execution_count": 3,
   "metadata": {
    "slideshow": {
     "slide_type": "-"
    }
   },
   "outputs": [
    {
     "name": "stdout",
     "output_type": "stream",
     "text": [
      "500000500000 0.024672985076904297\n"
     ]
    }
   ],
   "source": [
    "import time\n",
    "\n",
    "start = time.time()\n",
    "res = sum_of_n(1000000)\n",
    "end = time.time()\n",
    "print(res, end - start)"
   ]
  },
  {
   "cell_type": "markdown",
   "metadata": {
    "slideshow": {
     "slide_type": "slide"
    }
   },
   "source": [
    "## Limitations to Benchmarking \n",
    "\n",
    "Running time depends on:\n",
    "\n",
    "  * The speed of the computer\n",
    "  * The programming language\n",
    "  * The compiler/programming language implementation\n",
    "  * The value of the input"
   ]
  },
  {
   "cell_type": "code",
   "execution_count": 4,
   "metadata": {
    "slideshow": {
     "slide_type": "-"
    }
   },
   "outputs": [
    {
     "name": "stdout",
     "output_type": "stream",
     "text": [
      "5000050000 0.002393007278442383\n",
      "500000500000 0.023298025131225586\n",
      "50000005000000 0.2249751091003418\n"
     ]
    }
   ],
   "source": [
    "for i in [100000, 1000000, 10000000]:\n",
    "    start = time.time()\n",
    "    res = sum_of_n(i)\n",
    "    end = time.time()\n",
    "    print(res, end - start)"
   ]
  },
  {
   "cell_type": "markdown",
   "metadata": {
    "slideshow": {
     "slide_type": "slide"
    }
   },
   "source": [
    "## Measure Algorithm Efficiency Inpendently of Computer and Program\n",
    "\n",
    "* Count **number of steps**, or basic operations (not seconds)\n",
    "* Express measure as **function of the size of inputs**\n",
    "* Consider the **upper bound** on the running time (the worst-case scenario) \n",
    "* Use an **approximation** as the size of the input gets extremely large"
   ]
  },
  {
   "cell_type": "markdown",
   "metadata": {
    "slideshow": {
     "slide_type": "slide"
    }
   },
   "source": [
    "## Time Complexity: Example 1"
   ]
  },
  {
   "cell_type": "code",
   "execution_count": 5,
   "metadata": {
    "collapsed": true,
    "slideshow": {
     "slide_type": "-"
    }
   },
   "outputs": [],
   "source": [
    "def sum_of_n(n):\n",
    "    \"\"\"Assume n is a positive integer. \n",
    "    Calculate the sum of all integers from 1 to n, inclusive.\n",
    "    \"\"\"\n",
    "    res = 0\n",
    "    for i in range(1, n + 1):\n",
    "        res += i\n",
    "    return res"
   ]
  },
  {
   "cell_type": "markdown",
   "metadata": {
    "collapsed": true,
    "slideshow": {
     "slide_type": "-"
    }
   },
   "source": [
    "* The basic operation is assignment\n",
    "* The number of steps is $T(n) = 1 + n$\n",
    "* This is on the order of n: $O(n)$"
   ]
  },
  {
   "cell_type": "markdown",
   "metadata": {
    "slideshow": {
     "slide_type": "slide"
    }
   },
   "source": [
    "## Big-O Notation\n",
    "\n",
    "* The mathematical way to express running time\n",
    "* Gives an **upper bound** on the asymptotic growth (also called **order of growth**) of an algorithm\n",
    "\n",
    "   >The complexity of `func(n)` is $O(n^2)$\n",
    "\n",
    "   * This means that in the worst case `func` will take on the order of $n^2$ steps to run."
   ]
  },
  {
   "cell_type": "markdown",
   "metadata": {
    "slideshow": {
     "slide_type": "slide"
    }
   },
   "source": [
    "## Important Computational Complexity Classes\n",
    "\n",
    "| Big-O notation      | Running time   \n",
    "| :------------ |:------\n",
    "| $O(1)$     | constant           \n",
    "| $O(\\log n)$ | logarithmic  \n",
    "| $O(n)$     | linear\n",
    "| $O(n \\log n)$ | log-linear \n",
    "| $O(n^c)$ | polynomial\n",
    "| $O(c^n)$ | exponential"
   ]
  },
  {
   "cell_type": "markdown",
   "metadata": {
    "slideshow": {
     "slide_type": "slide"
    }
   },
   "source": [
    "## Comparison of Complexity Classes"
   ]
  },
  {
   "cell_type": "code",
   "execution_count": 5,
   "metadata": {
    "slideshow": {
     "slide_type": "-"
    }
   },
   "outputs": [
    {
     "data": {
      "image/png": "[encoded data removed]",
      "text/plain": [
       "<Figure size 800x400 with 1 Axes>"
      ]
     },
     "metadata": {},
     "output_type": "display_data"
    }
   ],
   "source": [
    "import matplotlib.pyplot as plt\n",
    "import math\n",
    "\n",
    "x = [i for i in range(1, 21)]\n",
    "\n",
    "plt.figure(figsize=(8, 4))\n",
    "plt.plot(x, [10 for i in x], label=r'$O(1)$ constant')\n",
    "plt.plot(x, [math.log(i) for i in x], label=r'$O(\\log n)$ logarithmic')\n",
    "plt.plot(x, [i for i in x], label=r'$O(n)$ linear')\n",
    "plt.plot(x, [i*math.log(i) for i in x], label=r'$O(n \\log n)$ log-linear')\n",
    "plt.plot(x, [i**2 for i in x], label=r'$O(n^c)$ polynomial')\n",
    "plt.plot(x, [2**i for i in x], label=r'$O(c^n)$ exponential')\n",
    "plt.legend(loc='upper right')\n",
    "plt.ylim(0, 200)\n",
    "plt.xlim(1, 20)\n",
    "plt.show()\n"
   ]
  },
  {
   "cell_type": "markdown",
   "metadata": {
    "slideshow": {
     "slide_type": "slide"
    }
   },
   "source": [
    "## Approximation\n",
    "\n",
    "* Keep the term with the largest growth rate\n",
    "* Drop any constants from the remaining term"
   ]
  },
  {
   "cell_type": "code",
   "execution_count": 7,
   "metadata": {
    "slideshow": {
     "slide_type": "-"
    }
   },
   "outputs": [
    {
     "data": {
      "image/png": "[encoded data removed]",
      "text/plain": [
       "<matplotlib.figure.Figure at 0x10fba2278>"
      ]
     },
     "metadata": {},
     "output_type": "display_data"
    }
   ],
   "source": [
    "import matplotlib.pyplot as plt\n",
    "import math\n",
    "\n",
    "maxx = [11, 501]\n",
    "fig = plt.figure(figsize=(12, 6))\n",
    "\n",
    "for k in range(len(maxx)):\n",
    "    plt.subplot(1, 2, k+1)\n",
    "    x = [i for i in range(1, maxx[k])]\n",
    "    plt.plot(x, [i*i + 5*i + 8 for i in x], label=r'$T(n) = n^2 + 5n + 8$')\n",
    "    plt.plot(x, [i*i for i in x], label=r'$O(n^2)$')\n",
    "plt.legend(loc='upper left')\n",
    "plt.show()\n"
   ]
  },
  {
   "cell_type": "markdown",
   "metadata": {
    "slideshow": {
     "slide_type": "slide"
    }
   },
   "source": [
    "## Constant Complexity: $O(1)$\n",
    "\n",
    "* Running time is independent of the input size"
   ]
  },
  {
   "cell_type": "code",
   "execution_count": 7,
   "metadata": {
    "slideshow": {
     "slide_type": "fragment"
    }
   },
   "outputs": [
    {
     "name": "stdout",
     "output_type": "stream",
     "text": [
      "5000050000 2.1457672119140625e-06\n",
      "500000500000 0.0\n",
      "50000005000000 9.5367431640625e-07\n"
     ]
    }
   ],
   "source": [
    "def sum_of_n(n):\n",
    "    \"\"\"Assume n is a positive integer. \n",
    "    Calculate the sum of all integers from 1 to n, inclusive.\n",
    "    \"\"\"\n",
    "    return int((n*(n+1))/2)\n",
    "\n",
    "for i in [100000, 1000000, 10000000]:\n",
    "    start = time.time()\n",
    "    res = sum_of_n(i)\n",
    "    end = time.time()\n",
    "    print(res, end - start)"
   ]
  },
  {
   "cell_type": "markdown",
   "metadata": {
    "slideshow": {
     "slide_type": "slide"
    }
   },
   "source": [
    "## Logarithmic Complexity: $O(\\log n)$\n",
    "\n",
    "* Running time grows as the log of at least one of the inputs\n",
    "* Typically, we use base 2 but the base of the logarithm does not matter as $\\log_2 x = log_2 10 * log_{10} x$ and we ignore constants\n",
    "* If we use base 2, then we can say: **Every time the size of the input doubles, the algorithm performs one additional step.**"
   ]
  },
  {
   "cell_type": "markdown",
   "metadata": {
    "slideshow": {
     "slide_type": "fragment"
    }
   },
   "source": [
    "```r\n",
    "### R code ###\n",
    "\n",
    "# Program using bisection search to find an approximation \n",
    "# within epsilon to the square root of a number x.\n",
    "bisec_search <- function(x, epsilon) {\n",
    "  # Define interval for search\n",
    "  low <- 0\n",
    "  high <- max(1, x)\n",
    "\n",
    "  # Start in the middle\n",
    "  guess <- (low + high) / 2\n",
    "\n",
    "  # Narrow down search interval until guess close enough\n",
    "  while (abs(guess ** 2 - x) >= epsilon) {\n",
    "    if (guess ** 2 < x) {\n",
    "      low <- guess\n",
    "    } else {\n",
    "      high <- guess\n",
    "    }\n",
    "    guess <- (low + high) / 2\n",
    "  }\n",
    "  return(guess)\n",
    "}\n",
    "\n",
    "bisec_search(25, 0.01)\n",
    "```"
   ]
  },
  {
   "cell_type": "markdown",
   "metadata": {
    "slideshow": {
     "slide_type": "slide"
    }
   },
   "source": [
    "## Linear Complexity: $O(n)$\n",
    "\n",
    "* Usually, algorithms dealing with lists and sequences as they touch each element of the sequence a constant number of times\n",
    "    * E.g., comparing two strings"
   ]
  },
  {
   "cell_type": "code",
   "execution_count": 10,
   "metadata": {
    "slideshow": {
     "slide_type": "-"
    }
   },
   "outputs": [
    {
     "name": "stdout",
     "output_type": "stream",
     "text": [
      "0 1 2 3 4 5 6 7 8 9 "
     ]
    }
   ],
   "source": [
    "for x in range(10):\n",
    "    print(x, end=' ')"
   ]
  },
  {
   "cell_type": "markdown",
   "metadata": {
    "slideshow": {
     "slide_type": "fragment"
    }
   },
   "source": [
    "```r\n",
    "### R code ###\n",
    "        \n",
    "# Program to find n!        \n",
    "factorial <- function(n) {    \n",
    "  if (n == 1) {\n",
    "    return(n)\n",
    "  } else {\n",
    "    return(n * factorial(n-1))\n",
    "  }\n",
    "}\n",
    "\n",
    "factorial(5)\n",
    "```"
   ]
  },
  {
   "cell_type": "markdown",
   "metadata": {
    "slideshow": {
     "slide_type": "slide"
    }
   },
   "source": [
    "## Log-Linear Complexity: $O(n \\log n)$\n",
    "\n",
    "* Many practical algorithms are log-linear\n",
    "* For example, **sorting a list**\n",
    "* Next week, we'll study different sorting algorithms"
   ]
  },
  {
   "cell_type": "markdown",
   "metadata": {
    "slideshow": {
     "slide_type": "slide"
    }
   },
   "source": [
    "## Polynomial Complexity: $O(n^c)$\n",
    "\n",
    "* E.g. quadratic $O(n^2)$ or cubic $O(n^3)$\n",
    "* Usually, algorithms with nested loops"
   ]
  },
  {
   "cell_type": "code",
   "execution_count": 9,
   "metadata": {
    "slideshow": {
     "slide_type": "-"
    }
   },
   "outputs": [
    {
     "name": "stdout",
     "output_type": "stream",
     "text": [
      "3025\n",
      "44100\n"
     ]
    }
   ],
   "source": [
    "n = 10\n",
    "test = 0\n",
    "for i in range(1, n + 1):\n",
    "    for j in range(1, n + 1):\n",
    "        test += i * j\n",
    "print(test)\n",
    "\n",
    "n = 20\n",
    "test = 0\n",
    "for i in range(1, n + 1):\n",
    "    for j in range(1, n + 1):\n",
    "        test += i * j\n",
    "print(test)"
   ]
  },
  {
   "cell_type": "markdown",
   "metadata": {
    "slideshow": {
     "slide_type": "slide"
    }
   },
   "source": [
    "## Exponential Complexity: $O(c^n)$\n",
    "\n",
    "* Many important problems are inherently exponential\n",
    "* Exponential algorithms are considered too slow to be practical\n",
    "* In such cases, we can find algorithms that provide approximate solutions or at least address specific instances of the problem"
   ]
  },
  {
   "cell_type": "markdown",
   "metadata": {
    "slideshow": {
     "slide_type": "fragment"
    }
   },
   "source": [
    "```r\n",
    "### R code ###\n",
    "\n",
    "# Program to find the n-th Fibonacci number using recursion\n",
    "recurse_fibonacci <- function(n) {\n",
    "    if(n <= 1) {\n",
    "        return(n)\n",
    "    } else {\n",
    "        return(recurse_fibonacci(n-1) + recurse_fibonacci(n-2))\n",
    "    }\n",
    "}\n",
    "\n",
    "print(recurse_fibonacci(10))\n",
    "```"
   ]
  },
  {
   "cell_type": "markdown",
   "metadata": {
    "slideshow": {
     "slide_type": "slide"
    }
   },
   "source": [
    "## Important Computational Complexity Classes\n",
    "\n",
    "\n",
    "![Big O](figs/big-o.jpg \"Big O\")"
   ]
  },
  {
   "cell_type": "markdown",
   "metadata": {
    "slideshow": {
     "slide_type": "slide"
    }
   },
   "source": [
    "## Analyzing Time Complexity\n",
    "\n",
    "Where to look:\n",
    "\n",
    "* Function and method calls \n",
    "* Recursive calls\n",
    "* Loops\n"
   ]
  },
  {
   "cell_type": "markdown",
   "metadata": {
    "slideshow": {
     "slide_type": "slide"
    }
   },
   "source": [
    "## Time Complexity of Python List Methods\n",
    "\n",
    "* Growing a list\n",
    "    * `L.append(k)` is $O(1)$\n",
    "    * `L + [k]` is $O(l)$ where $l$ is the size of list `L`"
   ]
  },
  {
   "cell_type": "markdown",
   "metadata": {
    "slideshow": {
     "slide_type": "notes"
    }
   },
   "source": [
    "*The method `append()` adds an item in place and since it adds to the end of the list, it does not have to touch the existing items*. In contrast, the list concatenation operation touches every item of the first list since it creates a copy of it."
   ]
  },
  {
   "cell_type": "code",
   "execution_count": 13,
   "metadata": {
    "slideshow": {
     "slide_type": "-"
    }
   },
   "outputs": [
    {
     "name": "stdout",
     "output_type": "stream",
     "text": [
      "l_concatenate \t 0.08526015281677246\n",
      "l_append \t 0.00016617774963378906\n"
     ]
    }
   ],
   "source": [
    "def l_concatenate(k):\n",
    "    lst = []\n",
    "    for i in range(k):\n",
    "        lst = lst + [i]\n",
    "    return lst\n",
    "\n",
    "def l_append(k):\n",
    "    lst = []\n",
    "    for i in range(k):\n",
    "        lst.append(i)        \n",
    "    return lst\n",
    "\n",
    "def timit(fnc, func_arg): # Note that functions can be passed as arguments\n",
    "    start = time.time()\n",
    "    fnc(*func_arg)  # Pass items from iterable as function arguments\n",
    "    end = time.time()\n",
    "    print(fnc.__name__, '\\t', end - start)\n",
    "    \n",
    "timit(l_concatenate, (10000,))\n",
    "timit(l_append, (10000,))"
   ]
  },
  {
   "cell_type": "markdown",
   "metadata": {
    "slideshow": {
     "slide_type": "slide"
    }
   },
   "source": [
    "## Time Complexity of Python List Methods\n",
    "\n",
    "* Creating a list"
   ]
  },
  {
   "cell_type": "code",
   "execution_count": 24,
   "metadata": {
    "slideshow": {
     "slide_type": "-"
    }
   },
   "outputs": [
    {
     "name": "stdout",
     "output_type": "stream",
     "text": [
      "l_concatenate \t 0.08427000045776367\n",
      "l_append \t 0.00015282630920410156\n",
      "l_comprehen \t 0.00010704994201660156\n",
      "l_range \t 6.914138793945312e-05\n"
     ]
    }
   ],
   "source": [
    "def l_concatenate(k):\n",
    "    lst = []\n",
    "    for i in range(k):\n",
    "        lst = lst + [i]\n",
    "    return lst\n",
    "\n",
    "def l_append(k):\n",
    "    lst = []\n",
    "    for i in range(k):\n",
    "        lst.append(i)        \n",
    "    return lst\n",
    "\n",
    "def l_comprehen(k):\n",
    "    return [i for i in range(k)]\n",
    "\n",
    "def l_range(k):\n",
    "    return list(range(k))\n",
    "\n",
    "timit(l_concatenate, (10000,))\n",
    "timit(l_append, (10000,))\n",
    "timit(l_comprehen, (10000,))\n",
    "timit(l_range, (10000,))"
   ]
  },
  {
   "cell_type": "markdown",
   "metadata": {
    "slideshow": {
     "slide_type": "slide"
    }
   },
   "source": [
    "## Time Complexity of Python List Methods\n",
    "\n",
    "$O(1)$\n",
    "\n",
    "* Indexing `[]`, `append()`, `pop()`\n",
    "\n",
    "\n",
    "$O(n)$\n",
    "\n",
    "* Iteration, `pop(i)`, `insert()`, `del`, `remove()`, `in`, `reverse()`, `min()`, `max()`\n",
    "\n",
    "$O(n \\log n)$\n",
    "\n",
    "* `sort()`\n",
    "\n",
    "\n"
   ]
  },
  {
   "cell_type": "markdown",
   "metadata": {
    "slideshow": {
     "slide_type": "slide"
    }
   },
   "source": [
    "## Time Complexity of Python Dictionary Methods\n",
    "\n",
    "$O(1)$\n",
    "\n",
    "* Indexing `[]`, `in`, `del`"
   ]
  },
  {
   "cell_type": "code",
   "execution_count": 35,
   "metadata": {
    "slideshow": {
     "slide_type": "fragment"
    }
   },
   "outputs": [
    {
     "name": "stdout",
     "output_type": "stream",
     "text": [
      "List:\n",
      "in_seq \t 4.696846008300781e-05\n",
      "in_seq \t 0.00044417381286621094\n",
      "in_seq \t 0.005097389221191406\n",
      "Dictionary:\n",
      "in_seq \t 9.5367431640625e-07\n",
      "in_seq \t 1.1920928955078125e-06\n",
      "in_seq \t 1.1920928955078125e-06\n"
     ]
    }
   ],
   "source": [
    "def in_seq(i, seq):\n",
    "    return i in seq\n",
    "\n",
    "print('List:')\n",
    "for n in [10000, 100000, 1000000]:\n",
    "    last = n\n",
    "    lst = [i for i in range(n)]\n",
    "    timit(in_seq, (last, lst))\n",
    "\n",
    "print('Dictionary:')\n",
    "for n in [10000, 100000, 1000000]:\n",
    "    last = n\n",
    "    dic = {i: None for i in range(n)}\n",
    "    timit(in_seq, (last, dic))\n"
   ]
  },
  {
   "cell_type": "markdown",
   "metadata": {
    "slideshow": {
     "slide_type": "fragment"
    }
   },
   "source": [
    "$O(n)$\n",
    "\n",
    "* Iteration\n"
   ]
  },
  {
   "cell_type": "markdown",
   "metadata": {
    "slideshow": {
     "slide_type": "slide"
    }
   },
   "source": [
    "## Space Complexity \n",
    "\n",
    "Use Big-O notation for the amount of memory required by an algorithm.\n",
    "\n",
    "Compare the total size of any new variables the algorthm is allocating, relative to the size of the input.\n",
    "\n",
    "Where to look:\n",
    "\n",
    "* New lists, dictionaries, etc.\n",
    "* New stacks in recursive calls"
   ]
  },
  {
   "cell_type": "markdown",
   "metadata": {
    "slideshow": {
     "slide_type": "slide"
    }
   },
   "source": [
    "## Space Complexity: Examples 1-2"
   ]
  },
  {
   "cell_type": "markdown",
   "metadata": {
    "slideshow": {
     "slide_type": "-"
    }
   },
   "source": [
    "* $O(1)$"
   ]
  },
  {
   "cell_type": "code",
   "execution_count": null,
   "metadata": {
    "collapsed": true,
    "slideshow": {
     "slide_type": "-"
    }
   },
   "outputs": [],
   "source": [
    "def print_n_times(s, n):\n",
    "    for i in range(n):\n",
    "        print(s)        "
   ]
  },
  {
   "cell_type": "markdown",
   "metadata": {
    "slideshow": {
     "slide_type": "fragment"
    }
   },
   "source": [
    "* $O(n)$"
   ]
  },
  {
   "cell_type": "code",
   "execution_count": null,
   "metadata": {
    "collapsed": true,
    "slideshow": {
     "slide_type": "-"
    }
   },
   "outputs": [],
   "source": [
    "def combine_n_times(s, n):\n",
    "    ls = [s for i in range(n)]\n",
    "    return ls"
   ]
  },
  {
   "cell_type": "markdown",
   "metadata": {
    "slideshow": {
     "slide_type": "notes"
    }
   },
   "source": [
    "*To be precise, the answer here is $O(sn)$ since the required memory depends on the size of both inputs.*"
   ]
  },
  {
   "cell_type": "markdown",
   "metadata": {
    "slideshow": {
     "slide_type": "slide"
    }
   },
   "source": [
    "## Space Complexity: Example 3"
   ]
  },
  {
   "cell_type": "code",
   "execution_count": null,
   "metadata": {
    "slideshow": {
     "slide_type": "-"
    }
   },
   "outputs": [
    {
     "data": {
      "text/plain": [
       "4950"
      ]
     },
     "execution_count": 18,
     "metadata": {},
     "output_type": "execute_result"
    }
   ],
   "source": [
    "def list_sum(lst):\n",
    "    if len(lst) == 1:  \n",
    "        return lst[0]\n",
    "    else:\n",
    "        return lst[0] + list_sum(lst[1:])     \n",
    "\n",
    "list_sum(list(range(100)))"
   ]
  },
  {
   "cell_type": "markdown",
   "metadata": {
    "slideshow": {
     "slide_type": "fragment"
    }
   },
   "source": [
    "Each recursive call is added to the call stack and takes up actual memory. Thus, the algorithm takes $O(n)$ space, where $n$ is the length of `lst`.\n",
    "\n",
    "![Recursion](figs/recursion.png \"Recursion\")"
   ]
  },
  {
   "cell_type": "markdown",
   "metadata": {
    "slideshow": {
     "slide_type": "slide"
    }
   },
   "source": [
    "## Space Complexity: Exercise 1"
   ]
  },
  {
   "cell_type": "code",
   "execution_count": 36,
   "metadata": {
    "slideshow": {
     "slide_type": "-"
    }
   },
   "outputs": [
    {
     "data": {
      "text/plain": [
       "4950"
      ]
     },
     "execution_count": 36,
     "metadata": {},
     "output_type": "execute_result"
    }
   ],
   "source": [
    "# What is the space complexity of the function pair_list_sum()?\n",
    "\n",
    "def pair_list_sum(lst):\n",
    "    \"\"\"Sum all elements of a list using pair_sum.\n",
    "    Assume elements of the list are numeric type.\n",
    "    \"\"\"\n",
    "    res = 0\n",
    "    for i in range(len(lst) - 1):\n",
    "        if i % 2 == 0:\n",
    "            res += pair_sum(lst[i], lst[i+1])\n",
    "        # if the one but last index is odd, just add the last number to the sum\n",
    "        elif i == len(lst) - 2:\n",
    "            res += lst[i+1]\n",
    "    return res \n",
    "    \n",
    "def pair_sum(a, b):\n",
    "    \"\"\"Take numbers a and b and return their sum a + b.\"\"\"\n",
    "    return a + b\n",
    "\n",
    "pair_list_sum(list(range(100)))"
   ]
  },
  {
   "cell_type": "markdown",
   "metadata": {
    "slideshow": {
     "slide_type": "slide"
    }
   },
   "source": [
    "## Space Complexity: Exercise 2"
   ]
  },
  {
   "cell_type": "code",
   "execution_count": 38,
   "metadata": {
    "slideshow": {
     "slide_type": "-"
    }
   },
   "outputs": [
    {
     "name": "stdout",
     "output_type": "stream",
     "text": [
      "55\n"
     ]
    }
   ],
   "source": [
    "# What is the space complexity of the fib() function?\n",
    "\n",
    "def fib(n):\n",
    "    \"\"\"Assume n is a non-negative integer.\n",
    "    Find the n-th Fibonacci number using recursion.\n",
    "    \"\"\"\n",
    "    if n <= 1:\n",
    "        return n\n",
    "    else:\n",
    "        return fib(n - 1) + fib(n - 2)\n",
    "\n",
    "print(fib(10))"
   ]
  },
  {
   "cell_type": "markdown",
   "metadata": {
    "slideshow": {
     "slide_type": "slide"
    }
   },
   "source": [
    "## Complexity Analysis in Practice\n",
    "\n",
    "* There is no fixed list of possible runtimes, e.g. $O(\\sqrt n)$, $O(n!)$, ...\n",
    "* Runtimes can be a function of more than one input, e.g. $O(nk)$, $O(n + k)$"
   ]
  },
  {
   "cell_type": "markdown",
   "metadata": {
    "slideshow": {
     "slide_type": "fragment"
    }
   },
   "source": [
    "* Big-O describes the rate of increase in runtime, not the actual runtime\n",
    "    * Benchmarking is still a useful tool"
   ]
  },
  {
   "cell_type": "markdown",
   "metadata": {
    "slideshow": {
     "slide_type": "fragment"
    }
   },
   "source": [
    "* Big-O ignores contsants but they often matter in practice\n",
    "    * If you reduce your code from three loops to one loop, Big-O will not change but the difference may be on the order of hours or days! "
   ]
  },
  {
   "cell_type": "markdown",
   "metadata": {
    "slideshow": {
     "slide_type": "fragment"
    }
   },
   "source": [
    "* There is often a tradeoff between time and space efficiency\n",
    "* **You need a balance between runtime, space, implementation time, maintainability, and readability**"
   ]
  },
  {
   "cell_type": "markdown",
   "metadata": {
    "slideshow": {
     "slide_type": "slide"
    }
   },
   "source": [
    "## Analyzing and Benchmarking Your Code: Exercise 1"
   ]
  },
  {
   "cell_type": "code",
   "execution_count": 40,
   "metadata": {
    "slideshow": {
     "slide_type": "-"
    }
   },
   "outputs": [
    {
     "name": "stdout",
     "output_type": "stream",
     "text": [
      "[12000.297727272728, 5796.265909090909, 7951.277272727273, 3071.931818181818, 2881.4931818181817, 1524.8704545454545]\n",
      "[12000.297727272728, 5796.265909090909, 7951.277272727273, 3071.931818181818, 2881.4931818181817, 1524.8704545454545]\n"
     ]
    }
   ],
   "source": [
    "# What is the time complexity and actual runtime \n",
    "# of the two get_centroid functions?\n",
    "\n",
    "import csv\n",
    "\n",
    "def get_data():\n",
    "    \"\"\"Read the file Wholesale customers data.csv \n",
    "    and return part of the data as a list of lists.\n",
    "    \"\"\"\n",
    "    with open('../../data/Wholesale customers data.csv') as f:\n",
    "        reader = csv.reader(f)\n",
    "        data = [[int(i) for i in row[2:]] for row in reader if row[0] != 'Channel']\n",
    "    return data\n",
    "\n",
    "def get_centroid(pointLists):\n",
    "    \"\"\"Estimate the centroid for a collection of n-dimensional points.\n",
    "    Assume pointLists is a collection of lists of numerical values.\n",
    "    Return a list of numerical values (the coordinates of the centroid).\n",
    "    \"\"\"\n",
    "    num = len(pointLists)\n",
    "    centroids = []\n",
    "    demension = len(pointLists[0])\n",
    "    \n",
    "    for a in range(demension):\n",
    "        centroids.append(0.0)\n",
    "\n",
    "    for i in range(num):\n",
    "        point =  pointLists[i]\n",
    "        for d in range(demension):\n",
    "            centroids[d] = centroids[d] + point[d]\n",
    "            \n",
    "    for a in range(demension):\n",
    "        centroids[a] = centroids[a]/num\n",
    "\n",
    "    return centroids\n",
    "\n",
    "def get_centroid_2(points):\n",
    "    \"\"\"Estimate the centroid for a collection of n-dimensional points.\n",
    "    Assume pointLists is a collection of lists of numerical values.\n",
    "    Return a list of numerical values (the coordinates of the centroid).\n",
    "    \"\"\"\n",
    "    centroid = []\n",
    "    num_points = len(points)\n",
    "    num_dims = len(points[0])\n",
    "    for dim in range(num_dims):\n",
    "        coord = [i[dim] for i in points]\n",
    "        centroid.append(sum(coord)/num_points)\n",
    "    return centroid\n",
    "\n",
    "data = get_data()\n",
    "print(get_centroid(data))\n",
    "print(get_centroid_2(data))"
   ]
  },
  {
   "cell_type": "code",
   "execution_count": 46,
   "metadata": {},
   "outputs": [
    {
     "name": "stdout",
     "output_type": "stream",
     "text": [
      "get_centroid \t 0.00012922286987304688\n",
      "get_centroid_2 \t 9.512901306152344e-05\n"
     ]
    }
   ],
   "source": [
    "timit(get_centroid, (data,)) # l x d = linear\n",
    "timit(get_centroid_2, (data,)) # l x d = linear"
   ]
  },
  {
   "cell_type": "markdown",
   "metadata": {
    "slideshow": {
     "slide_type": "slide"
    }
   },
   "source": [
    "## Analyzing and Benchmarking Your Code: Exercise 2"
   ]
  },
  {
   "cell_type": "code",
   "execution_count": null,
   "metadata": {
    "collapsed": true,
    "slideshow": {
     "slide_type": "-"
    }
   },
   "outputs": [],
   "source": [
    "# The algorithms take two inputs: list coauthors of length c \n",
    "# and dictionary author_dic of length d.\n",
    "# What is the time complexity of the two algorithms?\n",
    "\n",
    "for k, v in author_dic.items():\n",
    "    vlst = [sub_list[1] for sub_list in coauthors if sub_list[0] == k and sub_list[1] != k]\n",
    "    vlst = sorted(vlst)\n",
    "    author_dic[k] = vlst\n",
    "    \n",
    "# Algorithm 2\n",
    "for i, j in coauthors:\n",
    "    if j != i:\n",
    "        author_dic[i].append(j)\n",
    "\n"
   ]
  },
  {
   "cell_type": "markdown",
   "metadata": {
    "slideshow": {
     "slide_type": "slide"
    }
   },
   "source": [
    "## Algorithms and Order of Growth\n",
    "\n",
    "* **Algorithmic complexity**, also called running time and order of growth, refers to the number of steps a program takes as a function of the size of its inputs  \n",
    "\n",
    "* We use **Big-O** notation to express how, in the worst-case scenario, an algorithm's **running time or space requirements** grow as the input size grows\n",
    "\n",
    "* **Complexity analysis and benchmarking** are essential for designing programs that can efficiently manage large amounts of data and large numbers of users "
   ]
  },
  {
   "cell_type": "markdown",
   "metadata": {
    "slideshow": {
     "slide_type": "fragment"
    }
   },
   "source": [
    "-------\n",
    "\n",
    "* **Lab**: Practicing order of growth analysis\n",
    "* **Next week**: Basic searching and sorting algorithms"
   ]
  },
  {
   "cell_type": "markdown",
   "metadata": {
    "slideshow": {
     "slide_type": "fragment"
    }
   },
   "source": [
    "## Problem Set 5 will take place in class next week!\n",
    "* Come to your class on Tuesday, December 3. Don't be late. \n",
    "* **6 questions, 20 min long**\n",
    "  * Give **Big-O for time complexity** and explain reasoning in 1-2 sentences.\n",
    "* Mock test and example answers will be shared after tomorrow's class. \n",
    "* If you cannot make class because of unforeseen circumstances, please contact your class teacher **ASAP**.\n",
    "* If you have an adjustments plan and would like to use it, please contact your class teacher **now**.\n",
    "\n",
    "*If you miss class and have not informed us **in advance** with a valid reason, we will mark your submission as **no attempt** and assign 0 to it.*"
   ]
  }
 ],
 "metadata": {
  "celltoolbar": "Slideshow",
  "kernelspec": {
   "display_name": "base",
   "language": "python",
   "name": "python3"
  },
  "language_info": {
   "codemirror_mode": {
    "name": "ipython",
    "version": 3
   },
   "file_extension": ".py",
   "mimetype": "text/x-python",
   "name": "python",
   "nbconvert_exporter": "python",
   "pygments_lexer": "ipython3",
   "version": "3.11.10"
  }
 },
 "nbformat": 4,
 "nbformat_minor": 2
}
